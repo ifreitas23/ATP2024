{
 "cells": [
  {
   "cell_type": "code",
   "execution_count": null,
   "metadata": {},
   "outputs": [],
   "source": [
    "# o jogador advinha o número\n",
    "import random\n",
    "min = 0\n",
    "max = 100\n",
    "n = random.randint(min,max)\n",
    "i = int(input(\"introduza um número de 1 a 100:\"))\n",
    "t = 1\n",
    "while i!= n:\n",
    "    if i < n:\n",
    "        print(\"O número que pensei é maior\")\n",
    "    else:\n",
    "        print(\"O número que pensei é menor\")\n",
    "    i = int(input(\"introduza um número de 1 a 100:\"))\n",
    "    t = t + 1\n",
    "print(f\"Acertou!O número que eu tinha pensado o era {n} tendo utilizado um total de {t} tentativas para o adivinhar\")"
   ]
  },
  {
   "cell_type": "code",
   "execution_count": null,
   "metadata": {},
   "outputs": [],
   "source": [
    "# o computador advinha o número\n",
    "import random\n",
    "min = 0\n",
    "max = 100\n",
    "n = random.randint(min,max)\n",
    "i = input(f\"O número que pensaste é {n}? +(é maior)/-(é menor)/acertou\")\n",
    "t = 1\n",
    "while i != (\"acertou\"):\n",
    "    if i == (\"+\"):\n",
    "        min = n + 1\n",
    "    elif i == (\"-\"): \n",
    "        max = n - 1\n",
    "    n = random.randint(min,max)\n",
    "    i = input(f\"O número que pensaste é {n}? +(é maior)/-(é menor)/acertou\")\n",
    "    t = t + 1\n",
    "print(f\"Acertou em {t} tentativas!\")"
   ]
  }
 ],
 "metadata": {
  "kernelspec": {
   "display_name": "Python 3",
   "language": "python",
   "name": "python3"
  },
  "language_info": {
   "codemirror_mode": {
    "name": "ipython",
    "version": 3
   },
   "file_extension": ".py",
   "mimetype": "text/x-python",
   "name": "python",
   "nbconvert_exporter": "python",
   "pygments_lexer": "ipython3",
   "version": "3.12.6"
  }
 },
 "nbformat": 4,
 "nbformat_minor": 2
}
